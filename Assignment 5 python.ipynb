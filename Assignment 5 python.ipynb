{
 "cells": [
  {
   "cell_type": "code",
   "execution_count": 1,
   "id": "01ba54e9-9fe0-4261-90ef-7a82d0fdfeda",
   "metadata": {},
   "outputs": [],
   "source": [
    "# 1. What does an empty dictionary&#39;s code look like?"
   ]
  },
  {
   "cell_type": "code",
   "execution_count": 2,
   "id": "5850adc0-5cb4-41d9-9b7a-ef1a7dd3b29e",
   "metadata": {},
   "outputs": [],
   "source": [
    "empty_dict = {}\n"
   ]
  },
  {
   "cell_type": "code",
   "execution_count": 3,
   "id": "cd474f2b-7f60-4345-8f9f-9ced837b67b9",
   "metadata": {},
   "outputs": [],
   "source": [
    "# 2. What is the value of a dictionary value with the key &#39;foo&#39; and the value 42?"
   ]
  },
  {
   "cell_type": "code",
   "execution_count": 4,
   "id": "c5de8120-f942-4cc3-b21c-2aab755bbfcd",
   "metadata": {},
   "outputs": [],
   "source": [
    "# In a dictionary where the key is 'foo' and the value is 42, the value associated with the key 'foo' is 42. Here is an example:\n",
    "\n",
    "my_dict = {'foo': 42}\n"
   ]
  },
  {
   "cell_type": "code",
   "execution_count": 5,
   "id": "ef828ced-5c89-42f2-84e7-2130fdc792a7",
   "metadata": {},
   "outputs": [],
   "source": [
    "# 3. What is the most significant distinction between a dictionary and a list?"
   ]
  },
  {
   "cell_type": "code",
   "execution_count": 6,
   "id": "b2b6ac69-d38b-4055-b1d4-40157f390aa7",
   "metadata": {},
   "outputs": [],
   "source": [
    "# The most significant distinction between a dictionary and a list in Python is how they store and access data:\n",
    "\n",
    "# Dictionary: A dictionary stores data in key-value pairs. Each key is unique and is used to access its corresponding value. Dictionaries are unordered collections (prior to Python 3.7, from 3.7 onwards, they maintain insertion order), and they provide fast lookup, insertion, and deletion of key-value pairs based on the key.\n",
    "\n",
    "# List: A list stores data in a sequence of elements, which are indexed by their position in the list (starting from 0). Lists are ordered collections, meaning the order of elements is maintained, and they allow duplicate values. Lists provide fast access to elements based on their index."
   ]
  },
  {
   "cell_type": "code",
   "execution_count": 7,
   "id": "2bc8d991-627f-431d-b07c-dc4ede4d9b59",
   "metadata": {},
   "outputs": [],
   "source": [
    "# 4. What happens if you try to access spam[&#39;foo&#39;] if spam is {&#39;bar&#39;: 100}?"
   ]
  },
  {
   "cell_type": "code",
   "execution_count": 8,
   "id": "f19c7a74-e0fe-4e1d-b272-941d769b454d",
   "metadata": {},
   "outputs": [
    {
     "ename": "KeyError",
     "evalue": "'foo'",
     "output_type": "error",
     "traceback": [
      "\u001b[0;31m---------------------------------------------------------------------------\u001b[0m",
      "\u001b[0;31mKeyError\u001b[0m                                  Traceback (most recent call last)",
      "Cell \u001b[0;32mIn[8], line 8\u001b[0m\n\u001b[1;32m      5\u001b[0m spam \u001b[38;5;241m=\u001b[39m {\u001b[38;5;124m'\u001b[39m\u001b[38;5;124mbar\u001b[39m\u001b[38;5;124m'\u001b[39m: \u001b[38;5;241m100\u001b[39m}\n\u001b[1;32m      7\u001b[0m \u001b[38;5;66;03m# This will raise a KeyError\u001b[39;00m\n\u001b[0;32m----> 8\u001b[0m value \u001b[38;5;241m=\u001b[39m \u001b[43mspam\u001b[49m\u001b[43m[\u001b[49m\u001b[38;5;124;43m'\u001b[39;49m\u001b[38;5;124;43mfoo\u001b[39;49m\u001b[38;5;124;43m'\u001b[39;49m\u001b[43m]\u001b[49m\n",
      "\u001b[0;31mKeyError\u001b[0m: 'foo'"
     ]
    }
   ],
   "source": [
    "# If you try to access spam['foo'] when spam is {'bar': 100}, Python will raise a KeyError because the key 'foo' does not exist in the dictionary spam.\n",
    "\n",
    "# Here is an example:\n",
    "\n",
    "spam = {'bar': 100}\n",
    "\n",
    "# This will raise a KeyError\n",
    "value = spam['foo']\n"
   ]
  },
  {
   "cell_type": "code",
   "execution_count": 9,
   "id": "1f7a126e-1095-4ba0-86a0-9dfb32992348",
   "metadata": {},
   "outputs": [],
   "source": [
    "# 5. If a dictionary is stored in spam, what is the difference between the expressions &#39;cat&#39; in spam and\n",
    "# &#39;cat&#39; in spam.keys()?"
   ]
  },
  {
   "cell_type": "code",
   "execution_count": 11,
   "id": "5ee9edd5-6671-4ab9-a74d-3c517e98e28e",
   "metadata": {},
   "outputs": [
    {
     "name": "stdout",
     "output_type": "stream",
     "text": [
      "True\n",
      "True\n"
     ]
    }
   ],
   "source": [
    "\n",
    "# If a dictionary is stored in spam, there is effectively no difference between the expressions 'cat' in spam and 'cat' in spam.keys() in terms of their result. Both expressions check whether the key 'cat' exists in the dictionary spam.\n",
    "\n",
    "# 'cat' in spam: This expression checks directly if 'cat' is a key in the dictionary spam.\n",
    "\n",
    "# 'cat' in spam.keys(): This expression first retrieves all the keys of the dictionary spam as a view object and then checks if 'cat' is in that view.\n",
    "\n",
    "# Both expressions will return True if 'cat' is a key in spam, and False otherwise. However, 'cat' in spam is more concise and idiomatic, and it is the preferred way to check for the existence of a key in a dictionary.\n",
    "\n",
    "# Here's an example:\n",
    "\n",
    "spam = {'cat': 42, 'dog': 100}\n",
    "\n",
    "# Both will return True\n",
    "result1 = 'cat' in spam\n",
    "result2 = 'cat' in spam.keys()\n",
    "\n",
    "print(result1)  # Output: True\n",
    "print(result2)  # Output: True\n"
   ]
  },
  {
   "cell_type": "code",
   "execution_count": 12,
   "id": "4e36e2a4-8538-4009-9e8b-80f8bf780ea8",
   "metadata": {},
   "outputs": [],
   "source": [
    "# 6. If a dictionary is stored in spam, what is the difference between the expressions &#39;cat&#39; in spam and\n",
    "# &#39;cat&#39; in spam.values()?"
   ]
  },
  {
   "cell_type": "code",
   "execution_count": 13,
   "id": "36e25262-ded1-4305-be19-1ca1846dd15c",
   "metadata": {},
   "outputs": [
    {
     "name": "stdout",
     "output_type": "stream",
     "text": [
      "False\n",
      "True\n"
     ]
    }
   ],
   "source": [
    "# If a dictionary is stored in spam, there is a significant difference between the expressions 'cat' in spam and 'cat' in spam.values():\n",
    "\n",
    "# 'cat' in spam: This expression checks if 'cat' is a key in the dictionary spam. It returns True if 'cat' is a key in the dictionary, and False otherwise.\n",
    "\n",
    "# 'cat' in spam.values(): This expression checks if 'cat' is one of the values in the dictionary spam. It returns True if 'cat' is a value in the dictionary, and False otherwise.\n",
    "\n",
    "spam = {'animal': 'cat', 'pet': 'dog'}\n",
    "\n",
    "# This checks if 'cat' is a key in the dictionary\n",
    "result1 = 'cat' in spam\n",
    "\n",
    "# This checks if 'cat' is a value in the dictionary\n",
    "result2 = 'cat' in spam.values()\n",
    "\n",
    "print(result1)  # Output: False\n",
    "print(result2)  # Output: True\n"
   ]
  },
  {
   "cell_type": "code",
   "execution_count": 14,
   "id": "b9a75ea3-11ce-4a67-add7-6b3ad31b8ffe",
   "metadata": {},
   "outputs": [],
   "source": [
    "# 7. What is a shortcut for the following code?\n",
    "# if &#39;color&#39; not in spam:\n",
    "# spam[&#39;color&#39;] = &#39;black&#39;"
   ]
  },
  {
   "cell_type": "code",
   "execution_count": 15,
   "id": "e3357c5d-c2fb-4494-be0c-337b71c44716",
   "metadata": {},
   "outputs": [],
   "source": [
    "\n",
    "# A shortcut for the given code can be achieved using the setdefault method of dictionaries. The setdefault method checks if the key exists in the dictionary, and if not, it sets the key with the specified value. Here is the shortcut:\n",
    "\n",
    "spam.setdefault('color', 'black')\n",
    "\n",
    "if 'color' not in spam:\n",
    "    spam['color'] = 'black'\n"
   ]
  },
  {
   "cell_type": "code",
   "execution_count": 16,
   "id": "aef0bb8c-74af-4529-86e6-fd54e0a1c955",
   "metadata": {},
   "outputs": [],
   "source": [
    "# 8. How do you &quot;pretty print&quot; dictionary values using which module and function?"
   ]
  },
  {
   "cell_type": "code",
   "execution_count": 17,
   "id": "8bda49ae-c791-4f3d-aa95-5c86a44c555f",
   "metadata": {},
   "outputs": [
    {
     "name": "stdout",
     "output_type": "stream",
     "text": [
      "{'age': 30,\n",
      " 'hobbies': ['reading', 'cycling', 'hiking'],\n",
      " 'job': 'Engineer',\n",
      " 'name': 'Alice'}\n"
     ]
    }
   ],
   "source": [
    "import pprint\n",
    "\n",
    "spam = {'name': 'Alice', 'age': 30, 'job': 'Engineer', 'hobbies': ['reading', 'cycling', 'hiking']}\n",
    "\n",
    "pprint.pprint(spam)\n"
   ]
  },
  {
   "cell_type": "code",
   "execution_count": null,
   "id": "6a4054e5-37e9-4d5d-9e20-a5403ea82030",
   "metadata": {},
   "outputs": [],
   "source": []
  }
 ],
 "metadata": {
  "kernelspec": {
   "display_name": "Python 3 (ipykernel)",
   "language": "python",
   "name": "python3"
  },
  "language_info": {
   "codemirror_mode": {
    "name": "ipython",
    "version": 3
   },
   "file_extension": ".py",
   "mimetype": "text/x-python",
   "name": "python",
   "nbconvert_exporter": "python",
   "pygments_lexer": "ipython3",
   "version": "3.10.8"
  }
 },
 "nbformat": 4,
 "nbformat_minor": 5
}
